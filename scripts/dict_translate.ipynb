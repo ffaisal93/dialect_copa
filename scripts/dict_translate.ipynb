{
 "cells": [
  {
   "cell_type": "code",
   "execution_count": 1,
   "id": "0caf6dde-e77c-43d5-bad0-081df48a94df",
   "metadata": {},
   "outputs": [
    {
     "name": "stderr",
     "output_type": "stream",
     "text": [
      "/scratch/ffaisal/dialect-copa/vnv/vnv_copa/lib/python3.8/site-packages/tqdm/auto.py:21: TqdmWarning: IProgress not found. Please update jupyter and ipywidgets. See https://ipywidgets.readthedocs.io/en/stable/user_install.html\n",
      "  from .autonotebook import tqdm as notebook_tqdm\n"
     ]
    }
   ],
   "source": [
    "import argparse\n",
    "import os\n",
    "import csv\n",
    "import json\n",
    "import random\n",
    "from tqdm import tqdm\n",
    "import numpy as np\n",
    "import pandas as pd\n",
    "import torch\n",
    "from transformers import AutoModelForCausalLM, AutoTokenizer, BitsAndBytesConfig\n",
    "from datasets import load_dataset, Dataset, DatasetDict, load_from_disk, concatenate_datasets\n",
    "from transformers import logging\n",
    "from generate_utility import *\n",
    "from transformers.generation import GenerationConfig\n",
    "from peft import PeftModel\n",
    "# import bitsandbytes as bnb\n",
    "\n",
    "logging.set_verbosity_error()"
   ]
  },
  {
   "cell_type": "code",
   "execution_count": 2,
   "id": "4c0dfbde-0068-47ad-8555-1e9b102f3a2a",
   "metadata": {},
   "outputs": [],
   "source": [
    "dict_file=\"../data/chakavian_dict.txt\""
   ]
  },
  {
   "cell_type": "code",
   "execution_count": 3,
   "id": "81cce40c-8eb1-4c4f-b357-6261b7d42091",
   "metadata": {},
   "outputs": [],
   "source": [
    "with open(dict_file, encoding=\"utf-8\") as f:\n",
    "            lines = f.read().splitlines()"
   ]
  },
  {
   "cell_type": "code",
   "execution_count": 15,
   "id": "ff5bf97c-0dff-4aff-ab13-115fb19d49f8",
   "metadata": {},
   "outputs": [],
   "source": [
    "cr_ck={}\n",
    "for i,line in enumerate(lines):\n",
    "    if line.endswith('\\t'):\n",
    "        cr_ck[line.lower()[:-1]]=lines[i+1].lower()"
   ]
  },
  {
   "cell_type": "code",
   "execution_count": 46,
   "id": "5d542f93-952b-481f-a6f4-dc56c07ac2bf",
   "metadata": {},
   "outputs": [],
   "source": [
    "DATADIR='../data'\n",
    "lang='copa-hr'\n",
    "all_lines=[]\n",
    "for split in [\"train\", \"val\",\"train-genx\"]:\n",
    "    with open(os.path.join(DATADIR,lang,f\"{split}.jsonl\"), encoding=\"utf-8\") as f:\n",
    "        lines = f.read().splitlines()\n",
    "    line_dicts = [json.loads(line) for line in lines]\n",
    "    for line in line_dicts:\n",
    "        all_lines.append(line['premise'])\n",
    "        all_lines.append(line['choice1'])\n",
    "        all_lines.append(line['choice2'])"
   ]
  },
  {
   "cell_type": "code",
   "execution_count": 47,
   "id": "0853c4c2-344d-4de1-937b-c0db7bf36d2e",
   "metadata": {},
   "outputs": [],
   "source": [
    "all_cr_words=list(cr_ck.keys())"
   ]
  },
  {
   "cell_type": "code",
   "execution_count": 48,
   "id": "ef0f8068-eacd-464e-91ee-022803e481b0",
   "metadata": {},
   "outputs": [],
   "source": [
    "ck_lines=[]\n",
    "for i,line in enumerate(all_lines):\n",
    "    line_flag=False\n",
    "    words=line.split(' ')\n",
    "    new_line_words=[]\n",
    "    for word in words:\n",
    "        if word.lower() in all_cr_words:\n",
    "            new_line_words.append(cr_ck[word.lower()])\n",
    "        else:\n",
    "            new_line_words.append(word)\n",
    "    ck_lines.append(' '.join(new_line_words))"
   ]
  },
  {
   "cell_type": "code",
   "execution_count": 49,
   "id": "61a63b67-b3ff-45c1-96a4-a293a2acbb2d",
   "metadata": {},
   "outputs": [],
   "source": [
    "hr_ck_line_dict={}\n",
    "for line1,line2 in zip(all_lines, ck_lines):\n",
    "    hr_ck_line_dict[line1]=line2\n",
    "    "
   ]
  },
  {
   "cell_type": "code",
   "execution_count": null,
   "id": "1fc8587f-cf10-41cd-8e68-56e726a7caca",
   "metadata": {},
   "outputs": [],
   "source": []
  },
  {
   "cell_type": "code",
   "execution_count": 51,
   "id": "713958e1-0723-496e-afa6-a95d6402d3eb",
   "metadata": {},
   "outputs": [],
   "source": [
    "for split in [\"train\", \"val\",\"train-genx\"]:\n",
    "    new_line_dicts=[]\n",
    "    lang='copa-hr'\n",
    "    with open(os.path.join(DATADIR,lang,f\"{split}.jsonl\"), encoding=\"utf-8\") as f:\n",
    "        lines = f.read().splitlines()\n",
    "    line_dicts = [json.loads(line) for line in lines]\n",
    "    for l in line_dicts:\n",
    "        new_line_dicts.append({\n",
    "            'premise':hr_ck_line_dict[l['premise']],\n",
    "            'choice1':hr_ck_line_dict[l['choice1']],\n",
    "            'choice2':hr_ck_line_dict[l['choice2']],\n",
    "            'question':l['question'],\n",
    "            'idx':l['idx'],\n",
    "            'label':l['label']\n",
    "        })\n",
    "\n",
    "    import json\n",
    "    lang='copa-ck'\n",
    "    dest_file=f\"{DATADIR}/{lang}/{split}.jsonl\"\n",
    "    output_file = open(dest_file,'w',encoding='utf-8')\n",
    "    for dic in new_line_dicts:\n",
    "        json.dump(dic, output_file, ensure_ascii=False) \n",
    "        output_file.write(\"\\n\")\n",
    "    output_file.close()"
   ]
  },
  {
   "cell_type": "code",
   "execution_count": null,
   "id": "446e555e-fa51-46a2-9080-6c8513c6ccb6",
   "metadata": {},
   "outputs": [],
   "source": []
  }
 ],
 "metadata": {
  "kernelspec": {
   "display_name": "vnv_copa",
   "language": "python",
   "name": "vnv_copa"
  },
  "language_info": {
   "codemirror_mode": {
    "name": "ipython",
    "version": 3
   },
   "file_extension": ".py",
   "mimetype": "text/x-python",
   "name": "python",
   "nbconvert_exporter": "python",
   "pygments_lexer": "ipython3",
   "version": "3.9.9"
  }
 },
 "nbformat": 4,
 "nbformat_minor": 5
}
